{
 "cells": [
  {
   "cell_type": "code",
   "execution_count": 2,
   "id": "7ee92e56-e0a6-438f-b552-60feb9882737",
   "metadata": {},
   "outputs": [],
   "source": [
    "import tf2onnx\n",
    "import onnx\n",
    "import numpy as np\n",
    "from keras.layers import Dense # type: ignore\n",
    "from keras.models import Sequential # type: ignore\n",
    "from keras.utils import to_categorical # type: ignore\n",
    "from keras.callbacks import CSVLogger # type: ignore\n",
    "from tensorflow import keras, TensorSpec, float32 # type: ignore\n",
    "import tensorflow as tf"
   ]
  },
  {
   "cell_type": "code",
   "execution_count": 16,
   "id": "76260d15-87de-4cfe-b78f-2fb836c1911b",
   "metadata": {},
   "outputs": [],
   "source": [
    "model = tf.keras.models.load_model('../model_7x7_4_True')"
   ]
  },
  {
   "cell_type": "code",
   "execution_count": 17,
   "id": "1e2bc81a-4729-4762-ac2d-d38590a0410d",
   "metadata": {},
   "outputs": [
    {
     "name": "stdout",
     "output_type": "stream",
     "text": [
      "Model: \"sequential\"\n",
      "_________________________________________________________________\n",
      " Layer (type)                Output Shape              Param #   \n",
      "=================================================================\n",
      " Input (Dense)               (None, 49)                2450      \n",
      "                                                                 \n",
      " dense (Dense)               (None, 49)                2450      \n",
      "                                                                 \n",
      " Output (Dense)              (None, 3)                 150       \n",
      "                                                                 \n",
      "=================================================================\n",
      "Total params: 5,050\n",
      "Trainable params: 5,050\n",
      "Non-trainable params: 0\n",
      "_________________________________________________________________\n"
     ]
    }
   ],
   "source": [
    "model.summary()"
   ]
  },
  {
   "cell_type": "code",
   "execution_count": 21,
   "id": "72b80da8-a9a0-4956-908f-f3f9598e2217",
   "metadata": {},
   "outputs": [],
   "source": [
    "from onnxmltools import convert_keras\n",
    "from onnxmltools.convert.common.data_types import FloatTensorType\n",
    "initial_type=[('Input', FloatTensorType([1, 49]))]"
   ]
  },
  {
   "cell_type": "code",
   "execution_count": 22,
   "id": "78d489b7-d46d-4607-ac11-1e42906158d1",
   "metadata": {},
   "outputs": [],
   "source": [
    "model_onnx = convert_keras(model, initial_types=initial_type)"
   ]
  },
  {
   "cell_type": "code",
   "execution_count": 23,
   "id": "4a3ddab6-d42f-451a-adb3-db01b59f6c51",
   "metadata": {},
   "outputs": [],
   "source": [
    "with open(\"../onnx/model.onnx\", \"wb\") as f:\n",
    "    f.write(model_onnx.SerializeToString())"
   ]
  },
  {
   "cell_type": "code",
   "execution_count": null,
   "id": "c15813c5-d43d-46bd-a0a4-44d53eda4648",
   "metadata": {},
   "outputs": [],
   "source": []
  }
 ],
 "metadata": {
  "kernelspec": {
   "display_name": "Python 3 (ipykernel)",
   "language": "python",
   "name": "python3"
  },
  "language_info": {
   "codemirror_mode": {
    "name": "ipython",
    "version": 3
   },
   "file_extension": ".py",
   "mimetype": "text/x-python",
   "name": "python",
   "nbconvert_exporter": "python",
   "pygments_lexer": "ipython3",
   "version": "3.10.8"
  }
 },
 "nbformat": 4,
 "nbformat_minor": 5
}
